{
  "nbformat": 4,
  "nbformat_minor": 0,
  "metadata": {
    "colab": {
      "provenance": [],
      "gpuType": "T4"
    },
    "kernelspec": {
      "name": "python3",
      "display_name": "Python 3"
    },
    "language_info": {
      "name": "python"
    },
    "accelerator": "GPU"
  },
  "cells": [
    {
      "cell_type": "markdown",
      "source": [
        "# Subtitle converter\n",
        "\n",
        "[![Open in colab](https://colab.research.google.com/assets/colab-badge.svg)](https://colab.research.google.com/github/naipofo/VobSubConvertJp/blob/main/VobSubConvertJp.ipynb)\n",
        "\n",
        "This notebook will convert your VobSub subtitles (.idx + .sub) to conventional text subtitles(SubStation Alpha).\n",
        "\n",
        "If you have subtitles in .sup format, You can convert them to a .idx + .sub combo with [bdsup2subpp](https://github.com/mjuhasz/BDSup2Sub).\n",
        "\n",
        "If you are using google colab, remember to enable GPU acceleration to speed up the convertion.\n",
        "\n",
        "Check out my [github repo](https://github.com/naipofo/VobSubConvertJp) for more information\n",
        "\n",
        "Run the cells below to continiue ⬇️"
      ],
      "metadata": {
        "id": "PD_1GbEfx16d"
      }
    },
    {
      "cell_type": "code",
      "source": [
        "#@title **Dependeces**\n",
        "# @markdown Run this cell to install all dependeces. It might take some time.<br>\n",
        "# @markdown You only need to run this cell once.\n",
        "import os.path\n",
        "if (not os.path.isfile(\"~/.cargo/bin/cargo\")):\n",
        "  !curl https://sh.rustup.rs -sSf | sh -s -- -y\n",
        "!~/.cargo/bin/cargo install vobsub2png\n",
        "!pip install manga-ocr\n",
        "!pip install tqdm\n",
        "!pip install pysubs2\n",
        "from manga_ocr import MangaOcr\n",
        "mocr = MangaOcr()\n",
        "\n"
      ],
      "metadata": {
        "cellView": "form",
        "id": "W4rgv5scv7wN"
      },
      "execution_count": null,
      "outputs": []
    },
    {
      "cell_type": "code",
      "execution_count": null,
      "metadata": {
        "cellView": "form",
        "id": "RmUB6uS7khn0"
      },
      "outputs": [],
      "source": [
        "#@title **Setup**\n",
        "# @markdown Use the file browser on the left to upload your subtitle files.<br>\n",
        "# @markdown Make sure you have a matching .sub file in the same directory!<br>\n",
        "subtitle_name = \"hanabi.idx\" # @param {type:\"string\"}\n",
        "!rm -rf ./subimg\n",
        "!/root/.cargo/bin/vobsub2png -o subimg {subtitle_name}"
      ]
    },
    {
      "cell_type": "code",
      "source": [
        "#@title **Convert**\n",
        "# @markdown <font size=5>Run this cell to convert the subtitle file. It will be automatically\n",
        "# @markdown downloaded after the conversion finishes.\n",
        "\n",
        "from tqdm import tqdm\n",
        "import pysubs2\n",
        "from pysubs2 import Alignment, Color, SSAFile, SSAStyle, SSAEvent, make_time\n",
        "import json\n",
        "\n",
        "with open('subimg/index.json') as user_file:\n",
        "  subs_meta = json.load(user_file)\n",
        "\n",
        "subs = SSAFile()\n",
        "\n",
        "for m in tqdm(subs_meta['subtitles']):\n",
        "  subs.append(SSAEvent(\n",
        "      start=make_time(s=m[\"start\"]),\n",
        "      end=make_time(s=m[\"end\"]),\n",
        "      text=mocr(\"subimg/\"+m[\"path\"])))\n",
        "\n",
        "subs.info = {\n",
        "    \"; Converted by https://github.com/naipofo/VobSubConvertJp \":\"\",\n",
        "    **subs.info\n",
        "}\n",
        "\n",
        "file_name = f\"{subtitle_name[:-4]}.ass\"\n",
        "import os.path\n",
        "if (os.path.isfile(file_name)):\n",
        "  !rm {file_name}\n",
        "subs.save(file_name, 'utf-8', 'ass')\n",
        "print(f\"generated {file_name}\")\n",
        "from google.colab import files\n",
        "files.download(file_name)"
      ],
      "metadata": {
        "cellView": "form",
        "id": "2QmhvtXUsG_z"
      },
      "execution_count": null,
      "outputs": []
    }
  ]
}